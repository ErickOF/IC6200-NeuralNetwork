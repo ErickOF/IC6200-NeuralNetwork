{
  "nbformat": 4,
  "nbformat_minor": 0,
  "metadata": {
    "colab": {
      "name": "AI.ipynb",
      "provenance": [],
      "collapsed_sections": []
    },
    "kernelspec": {
      "name": "python3",
      "display_name": "Python 3"
    },
    "language_info": {
      "name": "python"
    }
  },
  "cells": [
    {
      "cell_type": "code",
      "metadata": {
        "id": "ph4bDLIvxm9J"
      },
      "source": [
        "import matplotlib.pyplot as plt\n",
        "import numpy as np\n",
        "\n",
        "from functools import partial\n",
        "from IPython.display import clear_output\n",
        "from tqdm import trange\n",
        "from typing import Iterator, List, Tuple"
      ],
      "execution_count": 1,
      "outputs": []
    },
    {
      "cell_type": "markdown",
      "metadata": {
        "id": "POdD19xu76X_"
      },
      "source": [
        "# Neural Network\n",
        "<img src=\"https://miro.medium.com/max/500/0*nipS8XYMKvUjvLoc.png\">\n",
        "\n",
        "## Backpropagation\n",
        "\n",
        "To compute loss gradients w.r.t input, we need to apply chain rule\n",
        "\n",
        "$\\frac{dLoss}{dx} = \\frac{dLoss}{dLayer} \\cdot \\frac{dLayer}{dx}$"
      ]
    },
    {
      "cell_type": "code",
      "metadata": {
        "id": "dnLFsZF-zI9n"
      },
      "source": [
        "class Layer:\n",
        "    \"\"\"Abstract class for Layers\n",
        "    \"\"\"\n",
        "    def forward(self, x: np.array) -> np.array:\n",
        "        \"\"\"Takes input data and returns output data\n",
        "        \"\"\"\n",
        "        pass\n",
        "\n",
        "    def backward(self, x: np.array, grad_output: np.array) -> np.array:\n",
        "        \"\"\"Performs a backpropagation step through the layer\n",
        "        \"\"\"\n",
        "        num_units: int = x.shape[1]\n",
        "        dlayer_dx: np.array = np.eye(num_units)\n",
        "\n",
        "        # Chain rule\n",
        "        return np.dot(grad_output, dlayer_dx)"
      ],
      "execution_count": 2,
      "outputs": []
    },
    {
      "cell_type": "markdown",
      "metadata": {
        "id": "J92e8FIw7Ui_"
      },
      "source": [
        "## [Rectified Linear Activation Function (ReLU)](https://machinelearningmastery.com/rectified-linear-activation-function-for-deep-learning-neural-networks/)\n",
        "\n",
        "We can describe this using a simple if-statement:\n",
        "\n",
        "```python\n",
        "if input > 0:\n",
        "\treturn input\n",
        "else:\n",
        "\treturn 0\n",
        "```\n",
        "\n",
        "We can describe this function $g()$ mathematically using the $max()$ function over the set of $0.0$ and the input $z$; for example:\n",
        "\n",
        "```\n",
        "g(z) = max{0, z}\n",
        "```\n",
        "\n",
        "<img src=\"https://miro.medium.com/max/3228/1*LiBZo_FcnKWqoU7M3GRKbA.png\">\n",
        "\n"
      ]
    },
    {
      "cell_type": "code",
      "metadata": {
        "id": "KzJvVnCazKvm"
      },
      "source": [
        "class ReLU(Layer):\n",
        "    \"\"\"Rectified Linear Activation Layer\n",
        "    \"\"\"\n",
        "    def forward(self, x: np.array) -> np.array:\n",
        "        \"\"\"Computes ReLU forward\n",
        "        \"\"\"\n",
        "        return np.maximum(0, x)\n",
        "    \n",
        "    def backward(self, x: np.array, grad_output: np.array) -> np.array:\n",
        "        \"\"\"Computes backpropagation of ReLU Layer\n",
        "        \"\"\"\n",
        "        relu_grad: np.array = x > 0\n",
        "        return grad_output * relu_grad"
      ],
      "execution_count": 3,
      "outputs": []
    },
    {
      "cell_type": "markdown",
      "metadata": {
        "id": "HG9cCKjsYlxc"
      },
      "source": [
        "## Dense Layer\n",
        "\n",
        "A dense layer applies affine transformation. In a vectorized form, it can be described as:\n",
        "\n",
        "$f(X) = W \\cdot X + \\vec{b}$\n",
        "\n",
        "Where\n",
        "* X: feature matrix\n",
        "* W: weight matrix\n",
        "* b: vector of num_outputs biases."
      ]
    },
    {
      "cell_type": "code",
      "metadata": {
        "id": "Y4NnFI6M0XuX"
      },
      "source": [
        "class Dense(Layer):\n",
        "    \"\"\"Regular densely-connected Neural Network layer.\n",
        "    \"\"\"\n",
        "    def __init__(self, n_inputs: int, n_outputs: int,\n",
        "                 learning_rate: float = 0.001) -> None:\n",
        "        \"\"\"Dense implements the operation: output = dot(x, weights) + bias\n",
        "        weights is a weights matrix created by the layer, and bias is a bias.\n",
        "        \"\"\"\n",
        "        # Learning rate\n",
        "        self.learning_rate: float = learning_rate\n",
        "        # Weight of the layer\n",
        "        self.weights: np.array = np.random.normal(loc=0.0, \n",
        "                                                  scale=np.sqrt(2 / (n_inputs +\\\n",
        "                                                                    n_outputs)), \n",
        "                                                  size=(n_inputs, n_outputs))\n",
        "        # Bias\n",
        "        self.biases: np.array = np.zeros(n_outputs)\n",
        "\n",
        "        # Previous deltas\n",
        "        self.dweights: np.array = np.zeros((n_inputs, n_outputs))\n",
        "        # Bias\n",
        "        self.dbiases: np.array = np.zeros(n_outputs)\n",
        "\n",
        "    def forward(self, x: np.array) -> np.array:\n",
        "        \"\"\"Perform an affine transformation\n",
        "        \"\"\"\n",
        "        return np.dot(x, self.weights) + self.biases\n",
        "\n",
        "    def backward(self, x: np.array, grad_output: np.array) -> np.array:\n",
        "        \"\"\"Compute backpropagation of Dense Layer\n",
        "        \"\"\"\n",
        "        # Compute df/dx = df/ddense * ddense /dx\n",
        "        # ddense/dx = weights transposed\n",
        "        grad_x: np.array = np.dot(grad_output, self.weights.T)\n",
        "\n",
        "        # Compute gradient weights and biases\n",
        "        grad_weights: np.array = np.dot(x.T, grad_output)\n",
        "        grad_biases: np.array = grad_output.mean(axis=0) * x.shape[0]\n",
        "\n",
        "        # Regularized delta rule\n",
        "        self.dweights = self.learning_rate * (grad_weights - self.dweights)\n",
        "        self.dbiases = self.learning_rate * (grad_biases - self.dbiases)\n",
        "\n",
        "        self.weights -= self.dweights\n",
        "        self.biases -= self.dbiases\n",
        "        \n",
        "        return grad_x"
      ],
      "execution_count": 4,
      "outputs": []
    },
    {
      "cell_type": "code",
      "metadata": {
        "id": "y1L_2T4G6uy3"
      },
      "source": [
        "def softmax_crossentropy_with_logits(logits: np.array,\n",
        "                                     reference_answers: np.array) -> np.array:\n",
        "    \"\"\"Compute crossentropy from logits[batch,n_classes] and ids of correct\n",
        "    answers\n",
        "    \"\"\"\n",
        "    logits_for_answers: np.array = logits[np.arange(len(logits)),\n",
        "                                                    reference_answers]\n",
        "\n",
        "    xentropy: np.array = -logits_for_answers + np.log(np.sum(np.exp(logits),\n",
        "                                                             axis=-1))\n",
        "\n",
        "    return xentropy\n",
        "\n",
        "def grad_softmax_crossentropy_with_logits(logits: np.array,\n",
        "                                          reference_answers: np.array) -> np.array:\n",
        "    \"\"\"Compute crossentropy gradient from logits[batch,n_classes] and ids of\n",
        "    correct answers\"\"\"\n",
        "    ones_for_answers: np.array = np.zeros_like(logits)\n",
        "    ones_for_answers[np.arange(len(logits)), reference_answers] = 1\n",
        "\n",
        "    softmax: np.array = np.exp(logits) / np.exp(logits).sum(axis=-1,\n",
        "                                                            keepdims=True)\n",
        "\n",
        "    return (-ones_for_answers + softmax) / logits.shape[0]"
      ],
      "execution_count": 5,
      "outputs": []
    },
    {
      "cell_type": "code",
      "metadata": {
        "id": "M5bCxMDI0ckk"
      },
      "source": [
        "def generate_dataset(size: tuple = (10, 10), n_samples: int = 1000,\n",
        "                     flatten: bool = True) -> Tuple[np.array]:\n",
        "    # Generate samples\n",
        "    samples: np.array = np.random.randint(0, 2, (n_samples,) + size) / 1.0\n",
        "\n",
        "    # Generate labels\n",
        "    non_zeros: np.array = np.count_nonzero(samples, axis=(1, 2))\n",
        "    labels: np.arry = np.zeros((n_samples,), dtype=np.uint8)\n",
        "    labels[non_zeros > (size[0] * size[1] // 2)] = 1\n",
        "\n",
        "    if flatten:\n",
        "        samples = samples.reshape([samples.shape[0], -1])\n",
        "\n",
        "    return samples, labels\n",
        "\n",
        "X_train, y_train = generate_dataset((10, 10), 800000)\n",
        "X_val, y_val = generate_dataset((10, 10), 2000000)\n",
        "X_test, y_test = generate_dataset((10, 10), 1000000)"
      ],
      "execution_count": 6,
      "outputs": []
    },
    {
      "cell_type": "code",
      "metadata": {
        "id": "GWsbS-V60iX9"
      },
      "source": [
        "class Network:\n",
        "    \"\"\"Neural Network\n",
        "    \"\"\"\n",
        "    def __init__(self, layers: List[Layer]):\n",
        "        \"\"\"Constructor\n",
        "        \"\"\"\n",
        "        self.network: List[Layer] = layers\n",
        "\n",
        "    def forward(self, X: np.array) -> List[np.array]:\n",
        "        \"\"\"Compute activations of all network layers by applying them\n",
        "        sequentially. Return a list of activations for each layer.\n",
        "        \"\"\"\n",
        "        activations: List[np.array] = []\n",
        "        x: np.array = X\n",
        "\n",
        "        # Looping through each layer\n",
        "        for layer in self.network:\n",
        "            activations.append(layer.forward(x))\n",
        "            # Updating input to last layer output\n",
        "            x: np.array = activations[-1]\n",
        "\n",
        "        return activations\n",
        "\n",
        "    def load(self, file_name: str = '0') -> None:\n",
        "        \"\"\"Load network weights\n",
        "        \"\"\"\n",
        "        # Modify allow_pickle parameter\n",
        "        np_load_old = partial(np.load)\n",
        "        np.load = lambda *a, **k: np_load_old(*a, allow_pickle=True, **k)\n",
        "\n",
        "        # Load weights\n",
        "        loaded_weights: np.array = np.load(f'{file_name}_nnw.npy')\n",
        "        # Index of the current weight\n",
        "        i: int = 0\n",
        "\n",
        "        for layer in self.network:\n",
        "            if isinstance(layer, Dense):\n",
        "                # Load weight into the layer\n",
        "                layer.weights = loaded_weights[i]\n",
        "                i += 1\n",
        "\n",
        "    def predict(self, X: np.array) -> List[np.array]:\n",
        "        \"\"\"Compute network predictions. Returning indices of largest Logit\n",
        "        probability\n",
        "        \"\"\" \n",
        "        return self.forward(X)[-1].argmax(axis=-1)\n",
        "\n",
        "    def save(self, file_name: str = '0') -> None:\n",
        "        \"\"\"Save network wieghts\n",
        "        \"\"\"\n",
        "        np.save(f'{file_name}_nnw.npy',\n",
        "                np.array([l.weights for l in self.network if isinstance(l,\n",
        "                                                                    Dense)]))\n",
        "\n",
        "    def train(self, X: np.array, y: np.array) -> np.array:\n",
        "        \"\"\"Train neural network\n",
        "        \"\"\"\n",
        "        # Get the layer activations\n",
        "        layer_activations: List[np.array] = self.forward(X)\n",
        "        layer_inputs: List[List] = [X] + layer_activations\n",
        "        logits: np.array = layer_activations[-1]\n",
        "\n",
        "        # Compute the loss and the initial gradient\n",
        "        loss: np.array = softmax_crossentropy_with_logits(logits, y)\n",
        "        loss_grad: np.array = grad_softmax_crossentropy_with_logits(logits, y)\n",
        "\n",
        "        # Propagate gradients through the network\n",
        "        for layer_index in range(len(self.network))[::-1]:\n",
        "            layer: Layer = self.network[layer_index]\n",
        "            loss_grad = layer.backward(layer_inputs[layer_index], loss_grad)\n",
        "            \n",
        "        return np.mean(loss)"
      ],
      "execution_count": 7,
      "outputs": []
    },
    {
      "cell_type": "code",
      "metadata": {
        "colab": {
          "base_uri": "https://localhost:8080/",
          "height": 352
        },
        "id": "A60lPtqs0nZv",
        "outputId": "ec975203-9604-416e-e959-9baf8338fde0"
      },
      "source": [
        "def iterate_minibatches(x: np.array, y: np.array,\n",
        "                        batchsize: int) -> Iterator[Tuple[np.array]]:\n",
        "    \"\"\"Generate randomly mini bataches\n",
        "    \"\"\"\n",
        "    # Randomize samples\n",
        "    index: np.array = np.random.permutation(len(x))\n",
        "\n",
        "    for start_idx in trange(0, len(x) - batchsize + 1, batchsize):\n",
        "        extract: np.array = index[start_idx:start_idx + batchsize]\n",
        "\n",
        "        yield x[extract], y[extract]\n",
        "\n",
        "EPOCHS: int = 15\n",
        "\n",
        "training_history: List = []\n",
        "validation_history: List = []\n",
        "\n",
        "layers: List[Layer] = [Dense(X_train.shape[1], 100), # Input layer\n",
        "                       ReLU(),                       # ReLU layer\n",
        "                       Dense(100, 50),               # Hidden layer\n",
        "                       ReLU(),                       # ReLU layer\n",
        "                       Dense(50, 2)]                 # Output layer\n",
        "\n",
        "nn: Network = Network(layers)\n",
        "nn.load()\n",
        "\n",
        "for epoch in range(EPOCHS):\n",
        "    for x_batch, y_batch in iterate_minibatches(X_train, y_train, batchsize=32):\n",
        "        nn.train(x_batch, y_batch)\n",
        "\n",
        "    training_history.append(np.mean(nn.predict(X_train) == y_train))\n",
        "    validation_history.append(np.mean(nn.predict(X_val) == y_val))\n",
        "\n",
        "    clear_output()\n",
        "\n",
        "    print(f'Epoch: {epoch + 1}')\n",
        "    print(f'Train accuracy: {training_history[-1]}')\n",
        "    print(f'Validation accuracy: {validation_history[-1]}')\n",
        "\n",
        "    plt.plot(training_history,label='Train accuracy')\n",
        "    plt.plot(validation_history,label='Valation accuracy')\n",
        "    plt.legend(loc='best')\n",
        "    plt.grid()\n",
        "    plt.show()\n",
        "\n",
        "    if validation_history[-1] > 0.95:\n",
        "        break\n",
        "\n",
        "nn.save()\n"
      ],
      "execution_count": 8,
      "outputs": [
        {
          "output_type": "stream",
          "text": [
            "Epoch: 1\n",
            "Train accuracy: 0.96435625\n",
            "Validation accuracy: 0.9641855\n"
          ],
          "name": "stdout"
        },
        {
          "output_type": "display_data",
          "data": {
            "image/png": "[encoded data removed]",
            "text/plain": [
              "<Figure size 432x288 with 1 Axes>"
            ]
          },
          "metadata": {
            "tags": [],
            "needs_background": "light"
          }
        },
        {
          "output_type": "stream",
          "text": [
            "/usr/local/lib/python3.7/dist-packages/ipykernel_launcher.py:52: VisibleDeprecationWarning: Creating an ndarray from ragged nested sequences (which is a list-or-tuple of lists-or-tuples-or ndarrays with different lengths or shapes) is deprecated. If you meant to do this, you must specify 'dtype=object' when creating the ndarray\n"
          ],
          "name": "stderr"
        }
      ]
    }
  ]
}